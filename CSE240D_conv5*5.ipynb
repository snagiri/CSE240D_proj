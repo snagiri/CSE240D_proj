{
 "cells": [
  {
   "cell_type": "code",
   "execution_count": 71,
   "metadata": {},
   "outputs": [],
   "source": [
    "import scipy.signal as ss\n",
    "import numpy as np\n",
    "import tensorflow as tf\n",
    "from tensorflow.keras.models import Sequential\n",
    "from tensorflow.keras.layers import Conv2D"
   ]
  },
  {
   "cell_type": "code",
   "execution_count": 72,
   "metadata": {},
   "outputs": [],
   "source": [
    "ip = [[0,0,2,0,5,0,0,0],\n",
    "      [0,0,0,11,0,7,4,0],\n",
    "      [0,1,0,3,0,0,0,0],\n",
    "      [0,5,0,2,0,0,6,0],\n",
    "      [0,0,4,4,0,0,3,0],\n",
    "      [0,2,0,0,0,0,1,0],\n",
    "      [0,4,0,2,0,2,0,0],\n",
    "      [0,1,0,6,3,0,0,0]]\n",
    "ip = np.asarray(ip)\n",
    "ip = ip.reshape(1, 8, 8, 1)"
   ]
  },
  {
   "cell_type": "code",
   "execution_count": 73,
   "metadata": {},
   "outputs": [],
   "source": [
    "# example a convolutional layer with padding\n",
    "model = Sequential()\n",
    "model.add(Conv2D(1, (3,3), padding='same', input_shape=(8, 8, 1)))"
   ]
  },
  {
   "cell_type": "code",
   "execution_count": 74,
   "metadata": {},
   "outputs": [
    {
     "data": {
      "text/plain": [
       "[[[[0.0], [0.0], [4.0], [33.0], [10.0], [21.0], [12.0], [0.0]],\n",
       "  [[0.0], [5.0], [10.0], [40.0], [25.0], [24.0], [8.0], [0.0]],\n",
       "  [[0.0], [17.0], [11.0], [67.0], [29.0], [39.0], [52.0], [8.0]],\n",
       "  [[1.0], [15.0], [17.0], [31.0], [6.0], [0.0], [21.0], [0.0]],\n",
       "  [[5.0], [31.0], [20.0], [18.0], [4.0], [6.0], [39.0], [12.0]],\n",
       "  [[0.0], [20.0], [24.0], [34.0], [8.0], [9.0], [17.0], [6.0]],\n",
       "  [[2.0], [21.0], [4.0], [22.0], [9.0], [5.0], [5.0], [2.0]],\n",
       "  [[4.0], [22.0], [10.0], [22.0], [12.0], [10.0], [4.0], [0.0]]]]"
      ]
     },
     "execution_count": 74,
     "metadata": {},
     "output_type": "execute_result"
    }
   ],
   "source": [
    "detector = [[[[2]],[[5]],[[1]]],\n",
    "            [[[0]],[[2]],[[0]]],\n",
    "            [[[0]],[[3]],[[0]]]]\n",
    "weights = [np.asarray(detector), np.asarray([0.0])]\n",
    "model.set_weights(weights)\n",
    "yhat = model.predict(ip)\n",
    "output_list = np.ndarray.tolist(yhat)\n",
    "output_list"
   ]
  },
  {
   "cell_type": "code",
   "execution_count": 75,
   "metadata": {},
   "outputs": [],
   "source": [
    "model2 = Sequential()\n",
    "model2.add(Conv2D(1, (5,5), padding='same', input_shape=(8, 8, 1)))"
   ]
  },
  {
   "cell_type": "code",
   "execution_count": 76,
   "metadata": {},
   "outputs": [
    {
     "data": {
      "text/plain": [
       "[[[[0.0], [4.0], [13.0], [11.0], [21.0], [7.0], [20.0], [0.0]],\n",
       "  [[1.0], [0.0], [41.0], [5.0], [33.0], [54.0], [0.0], [40.0]],\n",
       "  [[7.0], [2.0], [8.0], [54.0], [12.0], [53.0], [12.0], [6.0]],\n",
       "  [[10.0], [7.0], [23.0], [31.0], [29.0], [27.0], [14.0], [10.0]],\n",
       "  [[3.0], [23.0], [21.0], [10.0], [26.0], [25.0], [22.0], [2.0]],\n",
       "  [[13.0], [0.0], [28.0], [21.0], [18.0], [20.0], [12.0], [12.0]],\n",
       "  [[9.0], [10.0], [14.0], [27.0], [12.0], [11.0], [3.0], [14.0]],\n",
       "  [[4.0], [12.0], [16.0], [16.0], [0.0], [31.0], [12.0], [2.0]]]]"
      ]
     },
     "execution_count": 76,
     "metadata": {},
     "output_type": "execute_result"
    }
   ],
   "source": [
    "detector = [[[[0]],[[2]],[[0]],[[1]],[[0]]],\n",
    "            [[[0]],[[0]],[[3]],[[0]],[[0]]],\n",
    "            [[[4]],[[0]],[[0]],[[2]],[[0]]],\n",
    "            [[[0]],[[0]],[[0]],[[1]],[[0]]],\n",
    "            [[[1]],[[2]],[[0]],[[0]],[[0]]]]\n",
    "weights = [np.asarray(detector), np.asarray([0.0])]\n",
    "model2.set_weights(weights)\n",
    "yhat2 = model2.predict(ip)\n",
    "output_list2 = np.ndarray.tolist(yhat2)\n",
    "output_list2"
   ]
  }
 ],
 "metadata": {
  "kernelspec": {
   "display_name": "Python 3",
   "language": "python",
   "name": "python3"
  },
  "language_info": {
   "codemirror_mode": {
    "name": "ipython",
    "version": 3
   },
   "file_extension": ".py",
   "mimetype": "text/x-python",
   "name": "python",
   "nbconvert_exporter": "python",
   "pygments_lexer": "ipython3",
   "version": "3.7.3"
  }
 },
 "nbformat": 4,
 "nbformat_minor": 2
}
